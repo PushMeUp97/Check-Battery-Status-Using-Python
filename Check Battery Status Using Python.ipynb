{
 "cells": [
  {
   "cell_type": "code",
   "execution_count": null,
   "id": "725704ca-1a45-439e-b9ff-5de53209dddf",
   "metadata": {},
   "outputs": [],
   "source": [
    "import psutil\n",
    "\n",
    "battery = psutil.sensors_battery()\n",
    "\n",
    "if battery is not None:\n",
    "    print(f\"Battery Percentage: {battery.percent}%\")\n",
    "    print(f\"Power plugged in: {battery.power_plugged}\")\n",
    "\n",
    "def convertTime(seconds):\n",
    "    minutes, seconds = divmod(seconds, 60)\n",
    "    hours, minutes = divmod(minutes, 60)\n",
    "    return \"%d:%02d:%02d\" % (hours, minutes, seconds)"
   ]
  }
 ],
 "metadata": {
  "kernelspec": {
   "display_name": "Python 3 (ipykernel)",
   "language": "python",
   "name": "python3"
  },
  "language_info": {
   "codemirror_mode": {
    "name": "ipython",
    "version": 3
   },
   "file_extension": ".py",
   "mimetype": "text/x-python",
   "name": "python",
   "nbconvert_exporter": "python",
   "pygments_lexer": "ipython3",
   "version": "3.12.6"
  }
 },
 "nbformat": 4,
 "nbformat_minor": 5
}
